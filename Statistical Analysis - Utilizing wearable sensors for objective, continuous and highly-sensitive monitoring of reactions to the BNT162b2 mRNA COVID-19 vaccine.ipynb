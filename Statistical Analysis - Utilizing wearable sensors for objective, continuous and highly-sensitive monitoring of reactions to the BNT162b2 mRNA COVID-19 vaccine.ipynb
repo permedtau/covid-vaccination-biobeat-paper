{
 "cells": [
  {
   "cell_type": "code",
   "execution_count": 2,
   "metadata": {},
   "outputs": [],
   "source": [
    "import pandas as pd\n",
    "import numpy as np\n",
    "from scipy import stats"
   ]
  },
  {
   "cell_type": "code",
   "execution_count": 3,
   "metadata": {},
   "outputs": [],
   "source": [
    "data = pd.read_csv('figure3_data.csv')"
   ]
  },
  {
   "cell_type": "code",
   "execution_count": 4,
   "metadata": {},
   "outputs": [],
   "source": [
    "symptomatic = data[data['category'] == 'Symptomatic (n=80)']\n",
    "asymptomatic = data[data['category'] == 'Asymptomatic (n=55)']"
   ]
  },
  {
   "cell_type": "code",
   "execution_count": 8,
   "metadata": {},
   "outputs": [],
   "source": [
    "def create_test(day,period,symptomatic,asymptomatic,g1_name,g2_name):\n",
    "    print('t-test in day ',day,'at',period, 'time comapring between:',g1_name,'and',g2_name)\n",
    "    days_to_include = day \n",
    "    symptomatic = symptomatic[(symptomatic['days_since_second'].isin([days_to_include]))&\n",
    "                              (symptomatic['day_night']==period)]\n",
    "    \n",
    "    asymptomatic = asymptomatic[(asymptomatic['days_since_second'].isin([days_to_include]))&\n",
    "                          (asymptomatic['day_night']==period)]\n",
    "\n",
    "    cnt = 0\n",
    "    for col in bio_columns:\n",
    "        result = stats.ttest_ind(symptomatic[col], asymptomatic[col], axis=0, equal_var=False, nan_policy='omit')\n",
    "        if result[1] <= 0.05:\n",
    "            cnt+=1\n",
    "            print('###',col,'p-val:',round(result[1],5))\n",
    "        else: print('###',col,':not significant')\n",
    "\n",
    "    print('Significant met = ',cnt)"
   ]
  },
  {
   "cell_type": "code",
   "execution_count": 6,
   "metadata": {},
   "outputs": [],
   "source": [
    "bio_columns = ['rr', 'spo2', 'hr', 'hrv', 'sbp', 'dbp', 'pp', 'MAPrs', 'sv', 'co', 'ci', 'svr', 'temp']"
   ]
  },
  {
   "cell_type": "code",
   "execution_count": 9,
   "metadata": {},
   "outputs": [
    {
     "name": "stdout",
     "output_type": "stream",
     "text": [
      "t-test in day  1 at Day time comapring between: symptomatic and asymptomatic\n",
      "### rr :not significant\n",
      "### spo2 :not significant\n",
      "### hr p-val: 0.02063\n",
      "### hrv :not significant\n",
      "### sbp p-val: 0.03758\n",
      "### dbp p-val: 0.01187\n",
      "### pp :not significant\n",
      "### MAPrs p-val: 0.01699\n",
      "### sv p-val: 0.0185\n",
      "### co p-val: 0.01673\n",
      "### ci p-val: 0.0173\n",
      "### svr p-val: 0.03685\n",
      "### temp p-val: 0.01075\n",
      "Significant met =  9\n",
      "\n",
      "\n",
      "t-test in day  1 at Night time comapring between: symptomatic and asymptomatic\n",
      "### rr :not significant\n",
      "### spo2 :not significant\n",
      "### hr p-val: 0.01831\n",
      "### hrv :not significant\n",
      "### sbp :not significant\n",
      "### dbp p-val: 0.01132\n",
      "### pp :not significant\n",
      "### MAPrs p-val: 0.02361\n",
      "### sv p-val: 0.01573\n",
      "### co p-val: 0.01756\n",
      "### ci p-val: 0.01794\n",
      "### svr p-val: 0.01939\n",
      "### temp :not significant\n",
      "Significant met =  7\n",
      "\n",
      "\n",
      "t-test in day  2 at Day time comapring between: symptomatic and asymptomatic\n",
      "### rr :not significant\n",
      "### spo2 :not significant\n",
      "### hr :not significant\n",
      "### hrv :not significant\n",
      "### sbp :not significant\n",
      "### dbp :not significant\n",
      "### pp :not significant\n",
      "### MAPrs :not significant\n",
      "### sv :not significant\n",
      "### co :not significant\n",
      "### ci :not significant\n",
      "### svr :not significant\n",
      "### temp :not significant\n",
      "Significant met =  0\n",
      "\n",
      "\n",
      "t-test in day  2 at Night time comapring between: symptomatic and asymptomatic\n",
      "### rr :not significant\n",
      "### spo2 :not significant\n",
      "### hr :not significant\n",
      "### hrv :not significant\n",
      "### sbp :not significant\n",
      "### dbp :not significant\n",
      "### pp :not significant\n",
      "### MAPrs :not significant\n",
      "### sv :not significant\n",
      "### co :not significant\n",
      "### ci :not significant\n",
      "### svr :not significant\n",
      "### temp :not significant\n",
      "Significant met =  0\n",
      "\n",
      "\n",
      "t-test in day  3 at Day time comapring between: symptomatic and asymptomatic\n",
      "### rr :not significant\n",
      "### spo2 :not significant\n",
      "### hr :not significant\n",
      "### hrv :not significant\n",
      "### sbp :not significant\n",
      "### dbp :not significant\n",
      "### pp :not significant\n",
      "### MAPrs :not significant\n",
      "### sv :not significant\n",
      "### co :not significant\n",
      "### ci :not significant\n",
      "### svr :not significant\n",
      "### temp :not significant\n",
      "Significant met =  0\n",
      "\n",
      "\n",
      "t-test in day  3 at Night time comapring between: symptomatic and asymptomatic\n",
      "### rr :not significant\n",
      "### spo2 :not significant\n",
      "### hr :not significant\n",
      "### hrv :not significant\n",
      "### sbp :not significant\n",
      "### dbp :not significant\n",
      "### pp :not significant\n",
      "### MAPrs :not significant\n",
      "### sv :not significant\n",
      "### co :not significant\n",
      "### ci :not significant\n",
      "### svr :not significant\n",
      "### temp :not significant\n",
      "Significant met =  0\n",
      "\n",
      "\n"
     ]
    }
   ],
   "source": [
    "for day in range(1,4):\n",
    "    for period in ['Day','Night']:\n",
    "        create_test(day,period,symptomatic,asymptomatic,'symptomatic','asymptomatic')\n",
    "        print('\\n')"
   ]
  },
  {
   "cell_type": "code",
   "execution_count": null,
   "metadata": {},
   "outputs": [],
   "source": []
  }
 ],
 "metadata": {
  "kernelspec": {
   "display_name": "Python 3",
   "language": "python",
   "name": "python3"
  },
  "language_info": {
   "codemirror_mode": {
    "name": "ipython",
    "version": 3
   },
   "file_extension": ".py",
   "mimetype": "text/x-python",
   "name": "python",
   "nbconvert_exporter": "python",
   "pygments_lexer": "ipython3",
   "version": "3.7.4"
  }
 },
 "nbformat": 4,
 "nbformat_minor": 2
}
